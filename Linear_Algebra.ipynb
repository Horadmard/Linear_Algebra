{
  "metadata": {
    "language_info": {
      "codemirror_mode": {
        "name": "python",
        "version": 3
      },
      "file_extension": ".py",
      "mimetype": "text/x-python",
      "name": "python",
      "nbconvert_exporter": "python",
      "pygments_lexer": "ipython3",
      "version": "3.8"
    },
    "kernelspec": {
      "name": "python",
      "display_name": "Python (Pyodide)",
      "language": "python"
    }
  },
  "nbformat_minor": 4,
  "nbformat": 4,
  "cells": [
    {
      "cell_type": "markdown",
      "source": "# System Solver",
      "metadata": {}
    },
    {
      "cell_type": "code",
      "source": "import numpy as np",
      "metadata": {
        "trusted": true
      },
      "execution_count": 1,
      "outputs": []
    },
    {
      "cell_type": "code",
      "source": "def row_echelon(A):\n    m, n = A.shape\n    lead = 0\n    for r in range(m):\n        if lead >= n:\n            break\n        i = r\n        while A[i, lead] == 0:\n            i += 1\n            if i == m:\n                i = r\n                lead += 1\n                if n == lead:\n                    return A\n        A[[i, r]] = A[[r, i]]\n        lv = A[r, lead]\n        A[r] = A[r] / lv\n        for i in range(m):\n            if i == r:\n                continue\n            lv = A[i, lead]\n            A[i] = A[i] - lv * A[r]\n        lead += 1\n    return A",
      "metadata": {
        "trusted": true
      },
      "execution_count": 2,
      "outputs": []
    },
    {
      "cell_type": "code",
      "source": "#n = int(input(\"-number of equations: \")) # number of equations\n\n#A = np.zeros((n, n)) # the scalar matrix\n#B = np.zeros(n) # the answers matrix\n\nA = np.array([[3., 2, 4],\n              [1, 1, 1],\n              [5, 4, 6]])\n\nB = np.array([19, 6, 31])\n\nAB = np.column_stack((A, B)) # augmented matrix\n\nprint(\"A|B = \")\nprint(AB)\n\nprint(\"-------------\")\n\nprint(\"row_echelon(A|B) =\")\nprint(row_echelon(AB))\n\nprint(\"-------------\")\n\nprint(\"X = \")\nprint(row_echelon(AB)[: , 3])",
      "metadata": {
        "trusted": true
      },
      "execution_count": 18,
      "outputs": [
        {
          "name": "stdout",
          "text": "A|B = \n[[ 3.  2.  4. 19.]\n [ 1.  1.  1.  6.]\n [ 5.  4.  6. 31.]]\n-------------\nrow_echelon(A|B) =\n[[1. 0. 0. 1.]\n [0. 1. 0. 2.]\n [0. 0. 1. 3.]]\n-------------\nX = \n[1. 2. 3.]\n",
          "output_type": "stream"
        }
      ]
    },
    {
      "cell_type": "markdown",
      "source": "# Rank of Matrix",
      "metadata": {}
    },
    {
      "cell_type": "code",
      "source": "C = np.array([[4,0,1],\n              [2,0,2],\n              [3,0,3]])\n\nm , n = A.shape # dimantions of matrix\n\n#k = np.zeros((m, n)) # the scalar matrix\n\n# find the reduced row echelon form\nP = row_echelon(C)\nprint(P)\n\n# find the rank of matrix\nrank = 0\n\nfor i in range(len(P)):\n    for j in range(len(P[i])):\n        if P[i][j] != 0:\n            rank += 1 \n            break\n            \nprint(\"rank of matrix is:\")\nprint(rank)",
      "metadata": {
        "trusted": true
      },
      "execution_count": 4,
      "outputs": [
        {
          "name": "stdout",
          "text": "[[1 0 0]\n [0 0 1]\n [0 0 0]]\nrank of matrix is:\n2\n",
          "output_type": "stream"
        }
      ]
    },
    {
      "cell_type": "markdown",
      "source": "# Eigenvalues (using normal methods)",
      "metadata": {
        "tags": []
      }
    },
    {
      "cell_type": "code",
      "source": "import sympy as sy",
      "metadata": {
        "trusted": true
      },
      "execution_count": 8,
      "outputs": []
    },
    {
      "cell_type": "code",
      "source": "lamda = sy.symbols('lamda')\n\nD = sy.Matrix([[2 , 3, 0, 0],\n               [1 , 4, 0, 0],\n               [0 , 0, 0, 2],\n               [0 , 0, 2, 0]])\n\np = D.charpoly(lamda); \n\n#print(p)\n\nprint(sy.factor(p))\n\nsy.solve(p,lamda)",
      "metadata": {
        "trusted": true
      },
      "execution_count": 17,
      "outputs": [
        {
          "name": "stdout",
          "text": "PurePoly(lamda**4 - 6*lamda**3 + lamda**2 + 24*lamda - 20, lamda, domain='ZZ')\n",
          "output_type": "stream"
        },
        {
          "execution_count": 17,
          "output_type": "execute_result",
          "data": {
            "text/plain": "[-2, 1, 2, 5]"
          },
          "metadata": {}
        }
      ]
    },
    {
      "cell_type": "code",
      "source": "",
      "metadata": {},
      "execution_count": null,
      "outputs": []
    }
  ]
}